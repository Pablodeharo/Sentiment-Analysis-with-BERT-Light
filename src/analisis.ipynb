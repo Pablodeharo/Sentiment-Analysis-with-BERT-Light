{
 "cells": [
  {
   "cell_type": "code",
   "execution_count": 2,
   "metadata": {},
   "outputs": [
    {
     "name": "stderr",
     "output_type": "stream",
     "text": [
      "c:\\Users\\Lucas\\AppData\\Local\\Programs\\Python\\Python311\\Lib\\site-packages\\tqdm\\auto.py:21: TqdmWarning: IProgress not found. Please update jupyter and ipywidgets. See https://ipywidgets.readthedocs.io/en/stable/user_install.html\n",
      "  from .autonotebook import tqdm as notebook_tqdm\n"
     ]
    }
   ],
   "source": [
    "# Importar las bibliotecas necesarias\n",
    "import pandas as pd\n",
    "from transformers import pipeline\n",
    "from datetime import datetime"
   ]
  },
  {
   "cell_type": "code",
   "execution_count": 7,
   "metadata": {},
   "outputs": [
    {
     "name": "stderr",
     "output_type": "stream",
     "text": [
      "C:\\Users\\Lucas\\AppData\\Local\\Temp\\ipykernel_23100\\628218295.py:5: FutureWarning: You are using `torch.load` with `weights_only=False` (the current default value), which uses the default pickle module implicitly. It is possible to construct malicious pickle data which will execute arbitrary code during unpickling (See https://github.com/pytorch/pytorch/blob/main/SECURITY.md#untrusted-models for more details). In a future release, the default value for `weights_only` will be flipped to `True`. This limits the functions that could be executed during unpickling. Arbitrary objects will no longer be allowed to be loaded via this mode unless they are explicitly allowlisted by the user via `torch.serialization.add_safe_globals`. We recommend you start setting `weights_only=True` for any use case where you don't have full control of the loaded file. Please open an issue on GitHub for any issues related to this experimental feature.\n",
      "  model = torch.load(model_path)\n"
     ]
    },
    {
     "name": "stdout",
     "output_type": "stream",
     "text": [
      "DistilBertForSequenceClassification(\n",
      "  (distilbert): DistilBertModel(\n",
      "    (embeddings): Embeddings(\n",
      "      (word_embeddings): Embedding(30522, 768, padding_idx=0)\n",
      "      (position_embeddings): Embedding(512, 768)\n",
      "      (LayerNorm): LayerNorm((768,), eps=1e-12, elementwise_affine=True)\n",
      "      (dropout): Dropout(p=0.1, inplace=False)\n",
      "    )\n",
      "    (transformer): Transformer(\n",
      "      (layer): ModuleList(\n",
      "        (0-5): 6 x TransformerBlock(\n",
      "          (attention): DistilBertSdpaAttention(\n",
      "            (dropout): Dropout(p=0.1, inplace=False)\n",
      "            (q_lin): Linear(in_features=768, out_features=768, bias=True)\n",
      "            (k_lin): Linear(in_features=768, out_features=768, bias=True)\n",
      "            (v_lin): Linear(in_features=768, out_features=768, bias=True)\n",
      "            (out_lin): Linear(in_features=768, out_features=768, bias=True)\n",
      "          )\n",
      "          (sa_layer_norm): LayerNorm((768,), eps=1e-12, elementwise_affine=True)\n",
      "          (ffn): FFN(\n",
      "            (dropout): Dropout(p=0.1, inplace=False)\n",
      "            (lin1): Linear(in_features=768, out_features=3072, bias=True)\n",
      "            (lin2): Linear(in_features=3072, out_features=768, bias=True)\n",
      "            (activation): GELUActivation()\n",
      "          )\n",
      "          (output_layer_norm): LayerNorm((768,), eps=1e-12, elementwise_affine=True)\n",
      "        )\n",
      "      )\n",
      "    )\n",
      "  )\n",
      "  (pre_classifier): Linear(in_features=768, out_features=768, bias=True)\n",
      "  (classifier): Linear(in_features=768, out_features=2, bias=True)\n",
      "  (dropout): Dropout(p=0.2, inplace=False)\n",
      ")\n"
     ]
    }
   ],
   "source": [
    "import torch\n",
    "\n",
    "# Cargar el modelo guardado desde la ruta completa\n",
    "model_path = r\"C:\\Users\\Lucas\\Desktop\\Analisis de sentimientos\\Models\\trading_model.pt\"\n",
    "model = torch.load(model_path)\n",
    "\n",
    "# Asegúrate de poner el modelo en modo de evaluación (si es para inferencia)\n",
    "model.eval()\n",
    "\n",
    "# Imprimir el modelo para verificar que se cargó correctamente\n",
    "print(model)"
   ]
  },
  {
   "cell_type": "markdown",
   "metadata": {},
   "source": [
    "# ----------- LIMPIEZA DE DATOS ------------"
   ]
  },
  {
   "cell_type": "code",
   "execution_count": 41,
   "metadata": {},
   "outputs": [],
   "source": [
    "import pandas as pd\n",
    "import numpy as np\n",
    "from transformers import pipeline"
   ]
  },
  {
   "cell_type": "code",
   "execution_count": 86,
   "metadata": {},
   "outputs": [
    {
     "name": "stdout",
     "output_type": "stream",
     "text": [
      "Cargando datos...\n"
     ]
    }
   ],
   "source": [
    "# Rutas de los archivos CSV\n",
    "items_csv_path = r\"C:\\Users\\Lucas\\Desktop\\Analisis de sentimientos\\Data\\DataPhone\\20191226-items.csv\"\n",
    "reviews_csv_path = r\"C:\\Users\\Lucas\\Desktop\\Analisis de sentimientos\\Data\\DataPhone\\20191226-reviews.csv\"\n",
    "\n",
    "# Cargar datos desde los archivos CSV\n",
    "print(\"Cargando datos...\")\n",
    "items_df = pd.read_csv(items_csv_path)\n",
    "reviews_df = pd.read_csv(reviews_csv_path)"
   ]
  },
  {
   "cell_type": "code",
   "execution_count": 87,
   "metadata": {},
   "outputs": [
    {
     "name": "stdout",
     "output_type": "stream",
     "text": [
      "<class 'pandas.core.frame.DataFrame'>\n",
      "RangeIndex: 720 entries, 0 to 719\n",
      "Data columns (total 10 columns):\n",
      " #   Column         Non-Null Count  Dtype  \n",
      "---  ------         --------------  -----  \n",
      " 0   asin           720 non-null    object \n",
      " 1   brand          716 non-null    object \n",
      " 2   title          720 non-null    object \n",
      " 3   url            720 non-null    object \n",
      " 4   image          720 non-null    object \n",
      " 5   rating         720 non-null    float64\n",
      " 6   reviewUrl      720 non-null    object \n",
      " 7   totalReviews   720 non-null    int64  \n",
      " 8   price          720 non-null    float64\n",
      " 9   originalPrice  720 non-null    float64\n",
      "dtypes: float64(3), int64(1), object(6)\n",
      "memory usage: 56.4+ KB\n"
     ]
    }
   ],
   "source": [
    "items_df.info()"
   ]
  },
  {
   "cell_type": "code",
   "execution_count": 88,
   "metadata": {},
   "outputs": [
    {
     "name": "stdout",
     "output_type": "stream",
     "text": [
      "<class 'pandas.core.frame.DataFrame'>\n",
      "RangeIndex: 67986 entries, 0 to 67985\n",
      "Data columns (total 8 columns):\n",
      " #   Column        Non-Null Count  Dtype  \n",
      "---  ------        --------------  -----  \n",
      " 0   asin          67986 non-null  object \n",
      " 1   name          67983 non-null  object \n",
      " 2   rating        67986 non-null  int64  \n",
      " 3   date          67986 non-null  object \n",
      " 4   verified      67986 non-null  bool   \n",
      " 5   title         67957 non-null  object \n",
      " 6   body          67960 non-null  object \n",
      " 7   helpfulVotes  27215 non-null  float64\n",
      "dtypes: bool(1), float64(1), int64(1), object(5)\n",
      "memory usage: 3.7+ MB\n"
     ]
    }
   ],
   "source": [
    "reviews_df.info()"
   ]
  },
  {
   "cell_type": "code",
   "execution_count": 90,
   "metadata": {},
   "outputs": [
    {
     "name": "stderr",
     "output_type": "stream",
     "text": [
      "No model was supplied, defaulted to distilbert/distilbert-base-uncased-finetuned-sst-2-english and revision 714eb0f (https://huggingface.co/distilbert/distilbert-base-uncased-finetuned-sst-2-english).\n",
      "Using a pipeline without specifying a model name and revision in production is not recommended.\n",
      "Hardware accelerator e.g. GPU is available in the environment, but no `device` argument is passed to the `Pipeline` object. Model will be on CPU.\n"
     ]
    },
    {
     "name": "stdout",
     "output_type": "stream",
     "text": [
      "                                          title  \\\n",
      "0                   Def not best, but not worst   \n",
      "1                   Text Messaging Doesn't Work   \n",
      "2                               Love This Phone   \n",
      "3                       Love the Phone, BUT...!   \n",
      "4  Great phone service and options, lousy case!   \n",
      "\n",
      "                                                body sentiment  \n",
      "0  I had the Samsung A600 for awhile which is abs...  Negative  \n",
      "1  Due to a software issue between Nokia and Spri...  Negative  \n",
      "2  This is a great, reliable phone. I also purcha...  Negative  \n",
      "3  I love the phone and all, because I really did...  Positive  \n",
      "4  The phone has been great for every purpose it ...  Negative  \n"
     ]
    }
   ],
   "source": [
    "from transformers import pipeline\n",
    "\n",
    "# Cargar el modelo de análisis de sentimientos\n",
    "sentiment_analyzer = pipeline(\"sentiment-analysis\", truncation=True, padding=True, max_length=128)\n",
    "\n",
    "# Aplicar el análisis de sentimientos directamente sobre la columna 'body' y asignar a una nueva columna 'sentiment'\n",
    "reviews_df['sentiment'] = reviews_df['body'].apply(\n",
    "    lambda x: sentiment_analyzer(x)[0]['label'] if pd.notnull(x) else 'Neutral'\n",
    ")\n",
    "\n",
    "# Mapear los resultados del modelo a 'Positive' o 'Negative'\n",
    "reviews_df['sentiment'] = reviews_df['sentiment'].map({'POSITIVE': 'Positive', 'NEGATIVE': 'Negative'})\n",
    "\n",
    "# Verificar los primeros resultados\n",
    "print(reviews_df[['title', 'body', 'sentiment']].head())\n",
    "\n"
   ]
  },
  {
   "cell_type": "code",
   "execution_count": 84,
   "metadata": {},
   "outputs": [
    {
     "name": "stdout",
     "output_type": "stream",
     "text": [
      "<class 'pandas.core.frame.DataFrame'>\n",
      "RangeIndex: 67986 entries, 0 to 67985\n",
      "Data columns (total 9 columns):\n",
      " #   Column        Non-Null Count  Dtype  \n",
      "---  ------        --------------  -----  \n",
      " 0   asin          67986 non-null  object \n",
      " 1   name          67983 non-null  object \n",
      " 2   rating        67986 non-null  int64  \n",
      " 3   date          67986 non-null  object \n",
      " 4   verified      67986 non-null  bool   \n",
      " 5   title         67957 non-null  object \n",
      " 6   body          67960 non-null  object \n",
      " 7   helpfulVotes  27215 non-null  float64\n",
      " 8   sentiment     67960 non-null  object \n",
      "dtypes: bool(1), float64(1), int64(1), object(6)\n",
      "memory usage: 4.2+ MB\n"
     ]
    }
   ],
   "source": [
    "reviews_df.info()"
   ]
  },
  {
   "cell_type": "code",
   "execution_count": 85,
   "metadata": {},
   "outputs": [
    {
     "name": "stdout",
     "output_type": "stream",
     "text": [
      "El archivo final ha sido guardado en: C:\\Users\\Lucas\\Desktop\\Analisis de sentimientos\\Data\\DataPhone\\reviews_sentiment.csv\n"
     ]
    }
   ],
   "source": [
    "# Ruta para guardar el DataFrame combinado\n",
    "save_path = r\"C:\\Users\\Lucas\\Desktop\\Analisis de sentimientos\\Data\\DataPhone\\reviews_sentiment.csv\"\n",
    "\n",
    "# Guardar el DataFrame combinado en un archivo CSV\n",
    "reviews_df.to_csv(save_path, index=False)\n",
    "\n",
    "# Confirmación de que el archivo ha sido guardado\n",
    "print(f\"El archivo final ha sido guardado en: {save_path}\")"
   ]
  }
 ],
 "metadata": {
  "kernelspec": {
   "display_name": "Python 3",
   "language": "python",
   "name": "python3"
  },
  "language_info": {
   "codemirror_mode": {
    "name": "ipython",
    "version": 3
   },
   "file_extension": ".py",
   "mimetype": "text/x-python",
   "name": "python",
   "nbconvert_exporter": "python",
   "pygments_lexer": "ipython3",
   "version": "3.11.4"
  }
 },
 "nbformat": 4,
 "nbformat_minor": 2
}
