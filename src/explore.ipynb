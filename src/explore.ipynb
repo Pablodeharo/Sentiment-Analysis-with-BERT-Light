{
 "cells": [
  {
   "cell_type": "code",
   "execution_count": 76,
   "metadata": {},
   "outputs": [],
   "source": [
    "import torch\n",
    "import os\n",
    "\n",
    "# Configurar dispositivo como variable global\n",
    "device = torch.device(\"cuda\" if torch.cuda.is_available() else \"cpu\")\n",
    "\n",
    "def check_and_clear_gpu():\n",
    "    # Set up the device\n",
    "    device = torch.device(\"cuda\" if torch.cuda.is_available() else \"cpu\")\n",
    "\n",
    "    # Check GPU availability\n",
    "    print(\"GPU available:\", torch.cuda.is_available())\n",
    "    if torch.cuda.is_available():\n",
    "        print(\"GPU name:\", torch.cuda.get_device_name(0))\n",
    "\n",
    "    # Reset GPU \n",
    "    os.system('nvidia-smi --gpu-reset -i 0')\n",
    "\n",
    "    # Eliminar sesión activa para liberar recursos\n",
    "    tf.keras.backend.clear_session()\n",
    "\n",
    "    # Limpiar la caché de memoria de la GPU\n",
    "    from tensorflow.python.framework import ops\n",
    "    ops.reset_default_graph()\n",
    "\n",
    "    # Vaciar la caché de memoria de CUDA\n",
    "    torch.cuda.empty_cache()\n",
    "\n",
    "    # Liberar la memoria reservada por PyTorch\n",
    "    allocated_memory = torch.cuda.memory_allocated()\n",
    "    cached_memory = torch.cuda.memory_reserved()\n",
    "\n",
    "    print(\"Memoria de GPU liberada con PyTorch\")\n",
    "\n",
    "    # Imprimir el uso de memoria antes y después de liberarlo\n",
    "    print(f\"Allocated GPU Memory: {allocated_memory / 1024 ** 2:.2f} MB\")\n",
    "    print(f\"Cached GPU Memory: {cached_memory / 1024 ** 2:.2f} MB\")\n",
    "\n"
   ]
  },
  {
   "cell_type": "code",
   "execution_count": 77,
   "metadata": {},
   "outputs": [],
   "source": [
    "import bz2\n",
    "import pandas as pd\n",
    "import torch\n",
    "from torch import nn\n",
    "from torch.utils.data import Dataset, DataLoader\n",
    "from torch.nn.utils.rnn import pad_sequence\n",
    "import numpy as np\n",
    "from datasets import Dataset\n",
    "from sklearn.metrics import accuracy_score, classification_report, confusion_matrix\n",
    "from transformers import AutoTokenizer, AutoModelForSequenceClassification, Trainer, TrainingArguments\n",
    "from transformers import Trainer, TrainingArguments, TrainerCallback\n",
    "import matplotlib.pyplot as plt\n",
    "from transformers import TrainingArguments, Trainer, TrainerCallback\n",
    "from sklearn.metrics import roc_curve, auc, accuracy_score\n",
    "from transformers import DistilBertForSequenceClassification\n",
    "\n"
   ]
  },
  {
   "cell_type": "code",
   "execution_count": 78,
   "metadata": {},
   "outputs": [],
   "source": [
    "model_name = \"distilbert-base-uncased-finetuned-sst-2-english\"\n",
    "tokenizer = AutoTokenizer.from_pretrained(model_name)\n",
    "model = AutoModelForSequenceClassification.from_pretrained(model_name, num_labels=2).to(device)\n"
   ]
  },
  {
   "cell_type": "code",
   "execution_count": 80,
   "metadata": {},
   "outputs": [],
   "source": [
    "# Define the file paths \n",
    "file_path_train = r\"C:\\Users\\Lucas\\Desktop\\Analisis de sentimientos\\Data\\Train\\train.ft.txt.bz2\"\n",
    "file_path_test = r\"C:\\Users\\Lucas\\Desktop\\Analisis de sentimientos\\Data\\Test\\test.ft.txt.bz2\"\n",
    "\n"
   ]
  },
  {
   "cell_type": "code",
   "execution_count": 81,
   "metadata": {},
   "outputs": [
    {
     "name": "stdout",
     "output_type": "stream",
     "text": [
      "Loading training data...\n",
      "Loading test data...\n",
      "\n",
      "Class balance in training data:\n",
      "sentiment\n",
      "1    1800000\n",
      "0    1800000\n",
      "Name: count, dtype: int64\n",
      "\n",
      "Percentage:\n",
      "sentiment\n",
      "1    50.0\n",
      "0    50.0\n",
      "Name: proportion, dtype: float64\n",
      "\n",
      "Class balance in test data:\n",
      "sentiment\n",
      "1    200000\n",
      "0    200000\n",
      "Name: count, dtype: int64\n",
      "\n",
      "Percentage:\n",
      "sentiment\n",
      "1    50.0\n",
      "0    50.0\n",
      "Name: proportion, dtype: float64\n"
     ]
    }
   ],
   "source": [
    "# Function to load data\n",
    "def load_amazon_reviews(file_path):\n",
    "    reviews = []\n",
    "    labels = []\n",
    "\n",
    "    with bz2.open(file_path, 'rt', encoding='utf-8') as f:\n",
    "        for line in f:\n",
    "            parts = line.strip().split(' ', 1)\n",
    "            label = 1 if parts[0] == '__label__2' else 0\n",
    "            text = parts[1]\n",
    "\n",
    "            labels.append(label)\n",
    "            reviews.append(text)\n",
    "\n",
    "    return pd.DataFrame({\n",
    "        'text': reviews,\n",
    "        'sentiment': labels\n",
    "    })\n",
    "\n",
    "# Load the data\n",
    "print(\"Loading training data...\")\n",
    "df_train = load_amazon_reviews(file_path_train)\n",
    "\n",
    "print(\"Loading test data...\")\n",
    "df_test = load_amazon_reviews(file_path_test)\n",
    "\n",
    "# Verify class balance\n",
    "print(\"\\nClass balance in training data:\")\n",
    "print(df_train['sentiment'].value_counts())\n",
    "print(\"\\nPercentage:\")\n",
    "print(df_train['sentiment'].value_counts(normalize=True) * 100)\n",
    "\n",
    "print(\"\\nClass balance in test data:\")\n",
    "print(df_test['sentiment'].value_counts())\n",
    "print(\"\\nPercentage:\")\n",
    "print(df_test['sentiment'].value_counts(normalize=True) * 100)\n"
   ]
  },
  {
   "cell_type": "code",
   "execution_count": 82,
   "metadata": {},
   "outputs": [
    {
     "name": "stdout",
     "output_type": "stream",
     "text": [
      "New training set: (50000, 2)\n",
      "New test set: (10000, 2)\n",
      "\n",
      "Balance in new training set:\n",
      "sentiment\n",
      "0    50.0\n",
      "1    50.0\n",
      "Name: proportion, dtype: float64\n",
      "\n",
      "Balance in new test set:\n",
      "sentiment\n",
      "0    50.0\n",
      "1    50.0\n",
      "Name: proportion, dtype: float64\n"
     ]
    }
   ],
   "source": [
    "# Define sample size\n",
    "n_train = 50000\n",
    "n_test = 10000\n",
    "\"\"\"\n",
    "# Stratified sampling to maintain balance\n",
    "df_train_small = pd.concat([ \n",
    "    df_train[df_train['sentiment'] == 1].sample(n_train//2, random_state=42), \n",
    "    df_train[df_train['sentiment'] == 0].sample(n_train//2, random_state=42) \n",
    "]).sample(frac=1, random_state=42)  # Shuffle the samples\n",
    "\n",
    "df_test_small = pd.concat([ \n",
    "    df_test[df_test['sentiment'] == 1].sample(n_test//2, random_state=42), \n",
    "    df_test[df_test['sentiment'] == 0].sample(n_test//2, random_state=42) \n",
    "]).sample(frac=1, random_state=42)  # Shuffle the samples\n",
    "\"\"\"\n",
    "# Stratified sampling\n",
    "df_train_small = pd.concat([df_train[df_train['sentiment'] == 1].sample(n_train//2, random_state=42),\n",
    "                            df_train[df_train['sentiment'] == 0].sample(n_train//2, random_state=42)]).sample(frac=1, random_state=42)\n",
    "\n",
    "df_test_small = pd.concat([df_test[df_test['sentiment'] == 1].sample(n_test//2, random_state=42),\n",
    "                           df_test[df_test['sentiment'] == 0].sample(n_test//2, random_state=42)]).sample(frac=1, random_state=42)\n",
    "\n",
    "# Convert to Hugging Face Dataset\n",
    "train_data = Dataset.from_pandas(df_train_small.rename(columns={\"sentiment\": \"labels\"}))\n",
    "test_data = Dataset.from_pandas(df_test_small.rename(columns={\"sentiment\": \"labels\"}))\n",
    "\n",
    "# Verify the new sizes\n",
    "print(\"New training set:\", df_train_small.shape)\n",
    "print(\"New test set:\", df_test_small.shape)\n",
    "\n",
    "# Verify balance is maintained\n",
    "print(\"\\nBalance in new training set:\")\n",
    "print(df_train_small['sentiment'].value_counts(normalize=True) * 100)\n",
    "\n",
    "print(\"\\nBalance in new test set:\")\n",
    "print(df_test_small['sentiment'].value_counts(normalize=True) * 100)"
   ]
  },
  {
   "cell_type": "code",
   "execution_count": 83,
   "metadata": {},
   "outputs": [
    {
     "name": "stdout",
     "output_type": "stream",
     "text": [
      "First examples from train_data: {'text': ['not that good: the product does not have the bad taste it says it does. once applied all it is, is a shiny clear coat on your nails. bite them, there is a hint of a weird taste, but a true nail biter will ignore it. buy something stronger', \"Absolute Fiction - A blonde in Harvard Law ...: Just Kidding! But that is the whole premise of the film, right? And yet it isn't offensive and it has a cute moral message of becoming the best that we can be. Reese Witherspoon does a great job as a beautiful blonde who has never been expected to do anything more with her life than look beautiful, who then surprises everyone around her (including herself) by going to law school and suceeding. Even though she goes to law school solely to get back her dumb social climbing boyfriend, in the end she recognizes her own worth and not only betters herself but also manages to nab a great new boyfriend (played by the ever adorable Luke Wilson). So it is truly fiction -- pure entertainment that can only be enjoyed when you completely suspend reality. But isn't that what we go to the movies for?\"], 'labels': [0, 1], '__index_level_0__': [794992, 1084576]}\n",
      "First examples from test_data: {'text': ['Did not receive the watch!!!: I have not received the watch!!Where is it????You charged my credit card but I never got the watch.Richard Siefert8596 Alessandria CtNaples, FL 34114239-732-5885', \"Lots of Fun!: I bought this for my 4 year old nephew's birthday. Everyone (including the adults) really enjoyed it. We did have a probelm with the rockets getting stuck in the trees (I would recommend using it in a more open space) but it was still alot of fun. Plus it's easy to put together and it doesn't take batteries!\"], 'labels': [0, 1], '__index_level_0__': [100495, 294979]}\n"
     ]
    }
   ],
   "source": [
    "# Quick data check\n",
    "print(\"First examples from train_data:\", train_data[:2])\n",
    "print(\"First examples from test_data:\", test_data[:2])"
   ]
  },
  {
   "cell_type": "code",
   "execution_count": 84,
   "metadata": {},
   "outputs": [
    {
     "data": {
      "text/html": [
       "<div>\n",
       "<style scoped>\n",
       "    .dataframe tbody tr th:only-of-type {\n",
       "        vertical-align: middle;\n",
       "    }\n",
       "\n",
       "    .dataframe tbody tr th {\n",
       "        vertical-align: top;\n",
       "    }\n",
       "\n",
       "    .dataframe thead th {\n",
       "        text-align: right;\n",
       "    }\n",
       "</style>\n",
       "<table border=\"1\" class=\"dataframe\">\n",
       "  <thead>\n",
       "    <tr style=\"text-align: right;\">\n",
       "      <th></th>\n",
       "      <th>text</th>\n",
       "      <th>sentiment</th>\n",
       "    </tr>\n",
       "  </thead>\n",
       "  <tbody>\n",
       "    <tr>\n",
       "      <th>794992</th>\n",
       "      <td>not that good: the product does not have the b...</td>\n",
       "      <td>0</td>\n",
       "    </tr>\n",
       "    <tr>\n",
       "      <th>1084576</th>\n",
       "      <td>Absolute Fiction - A blonde in Harvard Law ......</td>\n",
       "      <td>1</td>\n",
       "    </tr>\n",
       "    <tr>\n",
       "      <th>574442</th>\n",
       "      <td>good review: Good to review HY facts after exa...</td>\n",
       "      <td>1</td>\n",
       "    </tr>\n",
       "    <tr>\n",
       "      <th>271474</th>\n",
       "      <td>brilliant: this album is wonderful! they've qu...</td>\n",
       "      <td>1</td>\n",
       "    </tr>\n",
       "    <tr>\n",
       "      <th>2800233</th>\n",
       "      <td>Careful! Don't order the wrong set: I had want...</td>\n",
       "      <td>0</td>\n",
       "    </tr>\n",
       "  </tbody>\n",
       "</table>\n",
       "</div>"
      ],
      "text/plain": [
       "                                                      text  sentiment\n",
       "794992   not that good: the product does not have the b...          0\n",
       "1084576  Absolute Fiction - A blonde in Harvard Law ......          1\n",
       "574442   good review: Good to review HY facts after exa...          1\n",
       "271474   brilliant: this album is wonderful! they've qu...          1\n",
       "2800233  Careful! Don't order the wrong set: I had want...          0"
      ]
     },
     "execution_count": 84,
     "metadata": {},
     "output_type": "execute_result"
    }
   ],
   "source": [
    "df_train_small.head()"
   ]
  },
  {
   "cell_type": "code",
   "execution_count": 85,
   "metadata": {},
   "outputs": [],
   "source": [
    "# Preprocessing function for text data\n",
    "def preprocess_function(examples):\n",
    "    return tokenizer(\n",
    "        examples['text'],                \n",
    "        truncation=True,                 \n",
    "        padding=\"max_length\",            \n",
    "        max_length=128                   \n",
    "    )"
   ]
  },
  {
   "cell_type": "code",
   "execution_count": 86,
   "metadata": {},
   "outputs": [
    {
     "name": "stderr",
     "output_type": "stream",
     "text": [
      "Map: 100%|██████████| 50000/50000 [00:05<00:00, 9312.94 examples/s] \n",
      "Map: 100%|██████████| 10000/10000 [00:00<00:00, 14248.46 examples/s]\n"
     ]
    }
   ],
   "source": [
    "# Tokenize and prepare the data for the model with Hugging Face `Dataset`\n",
    "train_data = train_data.map(preprocess_function, batched=True, load_from_cache_file=False)\n",
    "test_data = test_data.map(preprocess_function, batched=True, load_from_cache_file=False)"
   ]
  },
  {
   "cell_type": "code",
   "execution_count": 87,
   "metadata": {},
   "outputs": [
    {
     "name": "stdout",
     "output_type": "stream",
     "text": [
      "First examples from train_data (tokenized):\n",
      "{'text': ['not that good: the product does not have the bad taste it says it does. once applied all it is, is a shiny clear coat on your nails. bite them, there is a hint of a weird taste, but a true nail biter will ignore it. buy something stronger', \"Absolute Fiction - A blonde in Harvard Law ...: Just Kidding! But that is the whole premise of the film, right? And yet it isn't offensive and it has a cute moral message of becoming the best that we can be. Reese Witherspoon does a great job as a beautiful blonde who has never been expected to do anything more with her life than look beautiful, who then surprises everyone around her (including herself) by going to law school and suceeding. Even though she goes to law school solely to get back her dumb social climbing boyfriend, in the end she recognizes her own worth and not only betters herself but also manages to nab a great new boyfriend (played by the ever adorable Luke Wilson). So it is truly fiction -- pure entertainment that can only be enjoyed when you completely suspend reality. But isn't that what we go to the movies for?\"], 'labels': [0, 1], '__index_level_0__': [794992, 1084576], 'input_ids': [[101, 2025, 2008, 2204, 1024, 1996, 4031, 2515, 2025, 2031, 1996, 2919, 5510, 2009, 2758, 2009, 2515, 1012, 2320, 4162, 2035, 2009, 2003, 1010, 2003, 1037, 12538, 3154, 5435, 2006, 2115, 10063, 1012, 6805, 2068, 1010, 2045, 2003, 1037, 9374, 1997, 1037, 6881, 5510, 1010, 2021, 1037, 2995, 13774, 6805, 2099, 2097, 8568, 2009, 1012, 4965, 2242, 6428, 102, 0, 0, 0, 0, 0, 0, 0, 0, 0, 0, 0, 0, 0, 0, 0, 0, 0, 0, 0, 0, 0, 0, 0, 0, 0, 0, 0, 0, 0, 0, 0, 0, 0, 0, 0, 0, 0, 0, 0, 0, 0, 0, 0, 0, 0, 0, 0, 0, 0, 0, 0, 0, 0, 0, 0, 0, 0, 0, 0, 0, 0, 0, 0, 0, 0, 0, 0, 0, 0], [101, 7619, 4349, 1011, 1037, 9081, 1999, 5765, 2375, 1012, 1012, 1012, 1024, 2074, 12489, 999, 2021, 2008, 2003, 1996, 2878, 18458, 1997, 1996, 2143, 1010, 2157, 1029, 1998, 2664, 2009, 3475, 1005, 1056, 5805, 1998, 2009, 2038, 1037, 10140, 7191, 4471, 1997, 3352, 1996, 2190, 2008, 2057, 2064, 2022, 1012, 15883, 2007, 2545, 24667, 2078, 2515, 1037, 2307, 3105, 2004, 1037, 3376, 9081, 2040, 2038, 2196, 2042, 3517, 2000, 2079, 2505, 2062, 2007, 2014, 2166, 2084, 2298, 3376, 1010, 2040, 2059, 20096, 3071, 2105, 2014, 1006, 2164, 2841, 1007, 2011, 2183, 2000, 2375, 2082, 1998, 10514, 3401, 17819, 1012, 2130, 2295, 2016, 3632, 2000, 2375, 2082, 9578, 2000, 2131, 2067, 2014, 12873, 2591, 8218, 6898, 1010, 1999, 1996, 2203, 2016, 14600, 2014, 2219, 4276, 1998, 2025, 102]], 'attention_mask': [[1, 1, 1, 1, 1, 1, 1, 1, 1, 1, 1, 1, 1, 1, 1, 1, 1, 1, 1, 1, 1, 1, 1, 1, 1, 1, 1, 1, 1, 1, 1, 1, 1, 1, 1, 1, 1, 1, 1, 1, 1, 1, 1, 1, 1, 1, 1, 1, 1, 1, 1, 1, 1, 1, 1, 1, 1, 1, 1, 0, 0, 0, 0, 0, 0, 0, 0, 0, 0, 0, 0, 0, 0, 0, 0, 0, 0, 0, 0, 0, 0, 0, 0, 0, 0, 0, 0, 0, 0, 0, 0, 0, 0, 0, 0, 0, 0, 0, 0, 0, 0, 0, 0, 0, 0, 0, 0, 0, 0, 0, 0, 0, 0, 0, 0, 0, 0, 0, 0, 0, 0, 0, 0, 0, 0, 0, 0, 0], [1, 1, 1, 1, 1, 1, 1, 1, 1, 1, 1, 1, 1, 1, 1, 1, 1, 1, 1, 1, 1, 1, 1, 1, 1, 1, 1, 1, 1, 1, 1, 1, 1, 1, 1, 1, 1, 1, 1, 1, 1, 1, 1, 1, 1, 1, 1, 1, 1, 1, 1, 1, 1, 1, 1, 1, 1, 1, 1, 1, 1, 1, 1, 1, 1, 1, 1, 1, 1, 1, 1, 1, 1, 1, 1, 1, 1, 1, 1, 1, 1, 1, 1, 1, 1, 1, 1, 1, 1, 1, 1, 1, 1, 1, 1, 1, 1, 1, 1, 1, 1, 1, 1, 1, 1, 1, 1, 1, 1, 1, 1, 1, 1, 1, 1, 1, 1, 1, 1, 1, 1, 1, 1, 1, 1, 1, 1, 1]]}\n",
      "\n",
      "First examples from test_data (tokenized):\n",
      "{'text': ['Did not receive the watch!!!: I have not received the watch!!Where is it????You charged my credit card but I never got the watch.Richard Siefert8596 Alessandria CtNaples, FL 34114239-732-5885', \"Lots of Fun!: I bought this for my 4 year old nephew's birthday. Everyone (including the adults) really enjoyed it. We did have a probelm with the rockets getting stuck in the trees (I would recommend using it in a more open space) but it was still alot of fun. Plus it's easy to put together and it doesn't take batteries!\"], 'labels': [0, 1], '__index_level_0__': [100495, 294979], 'input_ids': [[101, 2106, 2025, 4374, 1996, 3422, 999, 999, 999, 1024, 1045, 2031, 2025, 2363, 1996, 3422, 999, 999, 2073, 2003, 2009, 1029, 1029, 1029, 1029, 2017, 5338, 2026, 4923, 4003, 2021, 1045, 2196, 2288, 1996, 3422, 1012, 2957, 9033, 27235, 5339, 27531, 2683, 2575, 15669, 11488, 4859, 4360, 14931, 2532, 21112, 1010, 13109, 28358, 16932, 21926, 2683, 1011, 6421, 2475, 1011, 5388, 27531, 102, 0, 0, 0, 0, 0, 0, 0, 0, 0, 0, 0, 0, 0, 0, 0, 0, 0, 0, 0, 0, 0, 0, 0, 0, 0, 0, 0, 0, 0, 0, 0, 0, 0, 0, 0, 0, 0, 0, 0, 0, 0, 0, 0, 0, 0, 0, 0, 0, 0, 0, 0, 0, 0, 0, 0, 0, 0, 0, 0, 0, 0, 0, 0, 0], [101, 7167, 1997, 4569, 999, 1024, 1045, 4149, 2023, 2005, 2026, 1018, 2095, 2214, 7833, 1005, 1055, 5798, 1012, 3071, 1006, 2164, 1996, 6001, 1007, 2428, 5632, 2009, 1012, 2057, 2106, 2031, 1037, 15113, 13728, 2007, 1996, 12496, 2893, 5881, 1999, 1996, 3628, 1006, 1045, 2052, 16755, 2478, 2009, 1999, 1037, 2062, 2330, 2686, 1007, 2021, 2009, 2001, 2145, 2632, 4140, 1997, 4569, 1012, 4606, 2009, 1005, 1055, 3733, 2000, 2404, 2362, 1998, 2009, 2987, 1005, 1056, 2202, 10274, 999, 102, 0, 0, 0, 0, 0, 0, 0, 0, 0, 0, 0, 0, 0, 0, 0, 0, 0, 0, 0, 0, 0, 0, 0, 0, 0, 0, 0, 0, 0, 0, 0, 0, 0, 0, 0, 0, 0, 0, 0, 0, 0, 0, 0, 0, 0, 0, 0]], 'attention_mask': [[1, 1, 1, 1, 1, 1, 1, 1, 1, 1, 1, 1, 1, 1, 1, 1, 1, 1, 1, 1, 1, 1, 1, 1, 1, 1, 1, 1, 1, 1, 1, 1, 1, 1, 1, 1, 1, 1, 1, 1, 1, 1, 1, 1, 1, 1, 1, 1, 1, 1, 1, 1, 1, 1, 1, 1, 1, 1, 1, 1, 1, 1, 1, 1, 0, 0, 0, 0, 0, 0, 0, 0, 0, 0, 0, 0, 0, 0, 0, 0, 0, 0, 0, 0, 0, 0, 0, 0, 0, 0, 0, 0, 0, 0, 0, 0, 0, 0, 0, 0, 0, 0, 0, 0, 0, 0, 0, 0, 0, 0, 0, 0, 0, 0, 0, 0, 0, 0, 0, 0, 0, 0, 0, 0, 0, 0, 0, 0], [1, 1, 1, 1, 1, 1, 1, 1, 1, 1, 1, 1, 1, 1, 1, 1, 1, 1, 1, 1, 1, 1, 1, 1, 1, 1, 1, 1, 1, 1, 1, 1, 1, 1, 1, 1, 1, 1, 1, 1, 1, 1, 1, 1, 1, 1, 1, 1, 1, 1, 1, 1, 1, 1, 1, 1, 1, 1, 1, 1, 1, 1, 1, 1, 1, 1, 1, 1, 1, 1, 1, 1, 1, 1, 1, 1, 1, 1, 1, 1, 1, 0, 0, 0, 0, 0, 0, 0, 0, 0, 0, 0, 0, 0, 0, 0, 0, 0, 0, 0, 0, 0, 0, 0, 0, 0, 0, 0, 0, 0, 0, 0, 0, 0, 0, 0, 0, 0, 0, 0, 0, 0, 0, 0, 0, 0, 0, 0]]}\n"
     ]
    }
   ],
   "source": [
    "# View the first 2 examples of train_data after tokenization\n",
    "print(\"First examples from train_data (tokenized):\")\n",
    "print(train_data[:2])  # The tokenized data\n",
    "\n",
    "# View the first 2 examples of test_data after tokenization\n",
    "print(\"\\nFirst examples from test_data (tokenized):\")\n",
    "print(test_data[:2])  # The tokenized data"
   ]
  },
  {
   "cell_type": "code",
   "execution_count": 88,
   "metadata": {},
   "outputs": [
    {
     "name": "stderr",
     "output_type": "stream",
     "text": [
      "c:\\Users\\Lucas\\AppData\\Local\\Programs\\Python\\Python311\\Lib\\site-packages\\transformers\\training_args.py:1559: FutureWarning: `evaluation_strategy` is deprecated and will be removed in version 4.46 of 🤗 Transformers. Use `eval_strategy` instead\n",
      "  warnings.warn(\n"
     ]
    }
   ],
   "source": [
    "# Set up training arguments\n",
    "training_args = TrainingArguments(\n",
    "    output_dir=\"C:/Users/Lucas/Desktop/Analisis de sentimientos/Models/checkpoint-01\",  # Directory to save model checkpoints\n",
    "    evaluation_strategy=\"steps\",         # Evaluate every few steps\n",
    "    eval_steps=500,                      # Evaluate every 500 steps\n",
    "    per_device_train_batch_size=64,      # Batch size for training\n",
    "    per_device_eval_batch_size=64,       # Batch size for evaluation\n",
    "    num_train_epochs=6,                  # Number of training epochs\n",
    "    weight_decay=0.01,                   # Weight decay for regularization\n",
    "    learning_rate=4e-5,                  # Learning rate\n",
    "    logging_dir=\"./logs\",                # Directory for logging\n",
    "    logging_steps=50,                    # Log every 50 steps\n",
    "    warmup_steps=500,                    # Number of warm-up steps for learning rate\n",
    "    lr_scheduler_type='linear',          # Linear learning rate scheduler\n",
    "    fp16=True                            # Enable mixed precision (16-bit)\n",
    ")"
   ]
  },
  {
   "cell_type": "code",
   "execution_count": null,
   "metadata": {},
   "outputs": [],
   "source": [
    "def compute_metrics(p):\n",
    "    \"\"\"\n",
    "    Computes evaluation metrics.\n",
    "    Args:\n",
    "        p: Evaluation predictions and labels.\n",
    "    Returns:\n",
    "        dict: Dictionary containing accuracy as a metric.\n",
    "    \"\"\"\n",
    "    preds = p.predictions.argmax(axis=-1)  \n",
    "    labels = p.label_ids                   \n",
    "    return {\"accuracy\": accuracy_score(labels, preds)}  # Return the accuracy metric as a dictionary"
   ]
  },
  {
   "cell_type": "code",
   "execution_count": 91,
   "metadata": {},
   "outputs": [],
   "source": [
    "# Custom callback to log metrics during training and evaluation\n",
    "class MetricsLogger(TrainerCallback):\n",
    "    \"\"\"\n",
    "    Custom callback to log metrics during training and evaluation.\n",
    "    \"\"\"\n",
    "    def __init__(self):\n",
    "        self.logs = []  \n",
    "\n",
    "    def on_log(self, args, state, control, logs=None, **kwargs):\n",
    "        if logs is not None:\n",
    "            self.logs.append(logs)  "
   ]
  },
  {
   "cell_type": "code",
   "execution_count": 92,
   "metadata": {},
   "outputs": [],
   "source": [
    "# Create trainer\n",
    "trainer = Trainer(\n",
    "    model=model,\n",
    "    args=training_args,\n",
    "    train_dataset=train_data,\n",
    "    eval_dataset=test_data,\n",
    "    compute_metrics=compute_metrics\n",
    ")"
   ]
  },
  {
   "cell_type": "code",
   "execution_count": 93,
   "metadata": {},
   "outputs": [
    {
     "name": "stdout",
     "output_type": "stream",
     "text": [
      "\n",
      "Training the model...\n"
     ]
    },
    {
     "name": "stderr",
     "output_type": "stream",
     "text": [
      "  1%|          | 50/4692 [01:09<1:47:41,  1.39s/it]"
     ]
    },
    {
     "name": "stdout",
     "output_type": "stream",
     "text": [
      "{'loss': 0.4354, 'grad_norm': 7.981222152709961, 'learning_rate': 3.920000000000001e-06, 'epoch': 0.06}\n"
     ]
    },
    {
     "name": "stderr",
     "output_type": "stream",
     "text": [
      "  2%|▏         | 100/4692 [02:21<1:49:05,  1.43s/it]"
     ]
    },
    {
     "name": "stdout",
     "output_type": "stream",
     "text": [
      "{'loss': 0.2433, 'grad_norm': 3.1493208408355713, 'learning_rate': 7.92e-06, 'epoch': 0.13}\n"
     ]
    },
    {
     "name": "stderr",
     "output_type": "stream",
     "text": [
      "  3%|▎         | 150/4692 [03:31<1:48:44,  1.44s/it]"
     ]
    },
    {
     "name": "stdout",
     "output_type": "stream",
     "text": [
      "{'loss': 0.233, 'grad_norm': 3.0632436275482178, 'learning_rate': 1.1920000000000001e-05, 'epoch': 0.19}\n"
     ]
    },
    {
     "name": "stderr",
     "output_type": "stream",
     "text": [
      "  4%|▍         | 200/4692 [04:44<1:51:21,  1.49s/it]"
     ]
    },
    {
     "name": "stdout",
     "output_type": "stream",
     "text": [
      "{'loss': 0.2093, 'grad_norm': 2.735607385635376, 'learning_rate': 1.5920000000000003e-05, 'epoch': 0.26}\n"
     ]
    },
    {
     "name": "stderr",
     "output_type": "stream",
     "text": [
      "  5%|▌         | 250/4692 [05:57<1:45:41,  1.43s/it]"
     ]
    },
    {
     "name": "stdout",
     "output_type": "stream",
     "text": [
      "{'loss': 0.21, 'grad_norm': 4.633025646209717, 'learning_rate': 1.9920000000000002e-05, 'epoch': 0.32}\n"
     ]
    },
    {
     "name": "stderr",
     "output_type": "stream",
     "text": [
      "  6%|▋         | 300/4692 [07:09<1:48:24,  1.48s/it]"
     ]
    },
    {
     "name": "stdout",
     "output_type": "stream",
     "text": [
      "{'loss': 0.1856, 'grad_norm': 2.8487131595611572, 'learning_rate': 2.392e-05, 'epoch': 0.38}\n"
     ]
    },
    {
     "name": "stderr",
     "output_type": "stream",
     "text": [
      "  7%|▋         | 350/4692 [08:19<1:43:18,  1.43s/it]"
     ]
    },
    {
     "name": "stdout",
     "output_type": "stream",
     "text": [
      "{'loss': 0.1969, 'grad_norm': 2.8210623264312744, 'learning_rate': 2.792e-05, 'epoch': 0.45}\n"
     ]
    },
    {
     "name": "stderr",
     "output_type": "stream",
     "text": [
      "  9%|▊         | 400/4692 [09:30<1:41:19,  1.42s/it]"
     ]
    },
    {
     "name": "stdout",
     "output_type": "stream",
     "text": [
      "{'loss': 0.1769, 'grad_norm': 2.7786436080932617, 'learning_rate': 3.1920000000000006e-05, 'epoch': 0.51}\n"
     ]
    },
    {
     "name": "stderr",
     "output_type": "stream",
     "text": [
      " 10%|▉         | 450/4692 [10:40<1:40:16,  1.42s/it]"
     ]
    },
    {
     "name": "stdout",
     "output_type": "stream",
     "text": [
      "{'loss': 0.2008, 'grad_norm': 2.1340110301971436, 'learning_rate': 3.592e-05, 'epoch': 0.58}\n"
     ]
    },
    {
     "name": "stderr",
     "output_type": "stream",
     "text": [
      " 11%|█         | 500/4692 [11:52<1:39:15,  1.42s/it]"
     ]
    },
    {
     "name": "stdout",
     "output_type": "stream",
     "text": [
      "{'loss': 0.1946, 'grad_norm': 2.7316269874572754, 'learning_rate': 3.9920000000000004e-05, 'epoch': 0.64}\n"
     ]
    },
    {
     "name": "stderr",
     "output_type": "stream",
     "text": [
      "                                                    \n",
      " 11%|█         | 500/4692 [12:07<1:39:15,  1.42s/it]"
     ]
    },
    {
     "name": "stdout",
     "output_type": "stream",
     "text": [
      "{'eval_loss': 0.17185990512371063, 'eval_accuracy': 0.9322, 'eval_runtime': 15.8937, 'eval_samples_per_second': 629.179, 'eval_steps_per_second': 9.878, 'epoch': 0.64}\n"
     ]
    },
    {
     "name": "stderr",
     "output_type": "stream",
     "text": [
      " 12%|█▏        | 550/4692 [13:19<1:36:59,  1.40s/it]"
     ]
    },
    {
     "name": "stdout",
     "output_type": "stream",
     "text": [
      "{'loss': 0.1771, 'grad_norm': 3.1681272983551025, 'learning_rate': 3.953244274809161e-05, 'epoch': 0.7}\n"
     ]
    },
    {
     "name": "stderr",
     "output_type": "stream",
     "text": [
      " 13%|█▎        | 600/4692 [14:30<1:35:51,  1.41s/it]"
     ]
    },
    {
     "name": "stdout",
     "output_type": "stream",
     "text": [
      "{'loss': 0.189, 'grad_norm': 1.2966947555541992, 'learning_rate': 3.905534351145038e-05, 'epoch': 0.77}\n"
     ]
    },
    {
     "name": "stderr",
     "output_type": "stream",
     "text": [
      " 14%|█▍        | 650/4692 [15:40<1:35:11,  1.41s/it]"
     ]
    },
    {
     "name": "stdout",
     "output_type": "stream",
     "text": [
      "{'loss': 0.177, 'grad_norm': 2.310584783554077, 'learning_rate': 3.8578244274809163e-05, 'epoch': 0.83}\n"
     ]
    },
    {
     "name": "stderr",
     "output_type": "stream",
     "text": [
      " 15%|█▍        | 700/4692 [16:53<1:39:06,  1.49s/it]"
     ]
    },
    {
     "name": "stdout",
     "output_type": "stream",
     "text": [
      "{'loss': 0.1669, 'grad_norm': 2.6895487308502197, 'learning_rate': 3.8101145038167945e-05, 'epoch': 0.9}\n"
     ]
    },
    {
     "name": "stderr",
     "output_type": "stream",
     "text": [
      " 16%|█▌        | 750/4692 [18:03<1:32:13,  1.40s/it]"
     ]
    },
    {
     "name": "stdout",
     "output_type": "stream",
     "text": [
      "{'loss': 0.1616, 'grad_norm': 2.157391309738159, 'learning_rate': 3.762404580152672e-05, 'epoch': 0.96}\n"
     ]
    },
    {
     "name": "stderr",
     "output_type": "stream",
     "text": [
      " 17%|█▋        | 800/4692 [19:13<1:32:30,  1.43s/it]"
     ]
    },
    {
     "name": "stdout",
     "output_type": "stream",
     "text": [
      "{'loss': 0.1348, 'grad_norm': 2.0266425609588623, 'learning_rate': 3.71469465648855e-05, 'epoch': 1.02}\n"
     ]
    },
    {
     "name": "stderr",
     "output_type": "stream",
     "text": [
      " 18%|█▊        | 850/4692 [20:25<1:30:12,  1.41s/it]"
     ]
    },
    {
     "name": "stdout",
     "output_type": "stream",
     "text": [
      "{'loss': 0.1232, 'grad_norm': 2.2961745262145996, 'learning_rate': 3.666984732824428e-05, 'epoch': 1.09}\n"
     ]
    },
    {
     "name": "stderr",
     "output_type": "stream",
     "text": [
      " 19%|█▉        | 900/4692 [21:35<1:31:29,  1.45s/it]"
     ]
    },
    {
     "name": "stdout",
     "output_type": "stream",
     "text": [
      "{'loss': 0.1143, 'grad_norm': 2.5198988914489746, 'learning_rate': 3.619274809160306e-05, 'epoch': 1.15}\n"
     ]
    },
    {
     "name": "stderr",
     "output_type": "stream",
     "text": [
      " 20%|██        | 950/4692 [22:47<1:27:32,  1.40s/it]"
     ]
    },
    {
     "name": "stdout",
     "output_type": "stream",
     "text": [
      "{'loss': 0.1163, 'grad_norm': 2.0650572776794434, 'learning_rate': 3.571564885496183e-05, 'epoch': 1.21}\n"
     ]
    },
    {
     "name": "stderr",
     "output_type": "stream",
     "text": [
      " 21%|██▏       | 1000/4692 [23:59<1:26:51,  1.41s/it]"
     ]
    },
    {
     "name": "stdout",
     "output_type": "stream",
     "text": [
      "{'loss': 0.1171, 'grad_norm': 0.8744985461235046, 'learning_rate': 3.523854961832061e-05, 'epoch': 1.28}\n"
     ]
    },
    {
     "name": "stderr",
     "output_type": "stream",
     "text": [
      "                                                     \n",
      " 21%|██▏       | 1000/4692 [24:15<1:26:51,  1.41s/it]"
     ]
    },
    {
     "name": "stdout",
     "output_type": "stream",
     "text": [
      "{'eval_loss': 0.16111893951892853, 'eval_accuracy': 0.9421, 'eval_runtime': 15.9756, 'eval_samples_per_second': 625.956, 'eval_steps_per_second': 9.828, 'epoch': 1.28}\n"
     ]
    },
    {
     "name": "stderr",
     "output_type": "stream",
     "text": [
      " 22%|██▏       | 1050/4692 [25:29<1:25:44,  1.41s/it]"
     ]
    },
    {
     "name": "stdout",
     "output_type": "stream",
     "text": [
      "{'loss': 0.1266, 'grad_norm': 1.16811203956604, 'learning_rate': 3.4761450381679394e-05, 'epoch': 1.34}\n"
     ]
    },
    {
     "name": "stderr",
     "output_type": "stream",
     "text": [
      " 23%|██▎       | 1100/4692 [26:39<1:23:56,  1.40s/it]"
     ]
    },
    {
     "name": "stdout",
     "output_type": "stream",
     "text": [
      "{'loss': 0.1273, 'grad_norm': 2.7061216831207275, 'learning_rate': 3.4284351145038176e-05, 'epoch': 1.41}\n"
     ]
    },
    {
     "name": "stderr",
     "output_type": "stream",
     "text": [
      " 25%|██▍       | 1150/4692 [27:51<1:23:05,  1.41s/it]"
     ]
    },
    {
     "name": "stdout",
     "output_type": "stream",
     "text": [
      "{'loss': 0.1192, 'grad_norm': 2.219409227371216, 'learning_rate': 3.380725190839695e-05, 'epoch': 1.47}\n"
     ]
    },
    {
     "name": "stderr",
     "output_type": "stream",
     "text": [
      " 26%|██▌       | 1200/4692 [29:02<1:21:48,  1.41s/it]"
     ]
    },
    {
     "name": "stdout",
     "output_type": "stream",
     "text": [
      "{'loss': 0.1165, 'grad_norm': 1.6716927289962769, 'learning_rate': 3.3330152671755725e-05, 'epoch': 1.53}\n"
     ]
    },
    {
     "name": "stderr",
     "output_type": "stream",
     "text": [
      " 27%|██▋       | 1250/4692 [30:14<1:20:52,  1.41s/it]"
     ]
    },
    {
     "name": "stdout",
     "output_type": "stream",
     "text": [
      "{'loss': 0.1145, 'grad_norm': 2.7574350833892822, 'learning_rate': 3.2853053435114506e-05, 'epoch': 1.6}\n"
     ]
    },
    {
     "name": "stderr",
     "output_type": "stream",
     "text": [
      " 28%|██▊       | 1300/4692 [31:24<1:19:29,  1.41s/it]"
     ]
    },
    {
     "name": "stdout",
     "output_type": "stream",
     "text": [
      "{'loss': 0.1357, 'grad_norm': 3.93041729927063, 'learning_rate': 3.237595419847329e-05, 'epoch': 1.66}\n"
     ]
    },
    {
     "name": "stderr",
     "output_type": "stream",
     "text": [
      " 29%|██▉       | 1350/4692 [32:37<1:23:02,  1.49s/it]"
     ]
    },
    {
     "name": "stdout",
     "output_type": "stream",
     "text": [
      "{'loss': 0.1183, 'grad_norm': 1.7509344816207886, 'learning_rate': 3.189885496183206e-05, 'epoch': 1.73}\n"
     ]
    },
    {
     "name": "stderr",
     "output_type": "stream",
     "text": [
      " 30%|██▉       | 1400/4692 [33:48<1:16:54,  1.40s/it]"
     ]
    },
    {
     "name": "stdout",
     "output_type": "stream",
     "text": [
      "{'loss': 0.1178, 'grad_norm': 0.5338672399520874, 'learning_rate': 3.1421755725190844e-05, 'epoch': 1.79}\n"
     ]
    },
    {
     "name": "stderr",
     "output_type": "stream",
     "text": [
      " 31%|███       | 1450/4692 [34:59<1:15:58,  1.41s/it]"
     ]
    },
    {
     "name": "stdout",
     "output_type": "stream",
     "text": [
      "{'loss': 0.1084, 'grad_norm': 2.0843043327331543, 'learning_rate': 3.094465648854962e-05, 'epoch': 1.85}\n"
     ]
    },
    {
     "name": "stderr",
     "output_type": "stream",
     "text": [
      " 32%|███▏      | 1500/4692 [36:09<1:14:38,  1.40s/it]"
     ]
    },
    {
     "name": "stdout",
     "output_type": "stream",
     "text": [
      "{'loss': 0.1029, 'grad_norm': 2.0289905071258545, 'learning_rate': 3.0467557251908397e-05, 'epoch': 1.92}\n"
     ]
    },
    {
     "name": "stderr",
     "output_type": "stream",
     "text": [
      "                                                     \n",
      " 32%|███▏      | 1500/4692 [36:25<1:14:38,  1.40s/it]"
     ]
    },
    {
     "name": "stdout",
     "output_type": "stream",
     "text": [
      "{'eval_loss': 0.16890475153923035, 'eval_accuracy': 0.9416, 'eval_runtime': 15.9356, 'eval_samples_per_second': 627.527, 'eval_steps_per_second': 9.852, 'epoch': 1.92}\n"
     ]
    },
    {
     "name": "stderr",
     "output_type": "stream",
     "text": [
      " 33%|███▎      | 1550/4692 [37:37<1:13:20,  1.40s/it]"
     ]
    },
    {
     "name": "stdout",
     "output_type": "stream",
     "text": [
      "{'loss': 0.1083, 'grad_norm': 1.0151921510696411, 'learning_rate': 2.9990458015267178e-05, 'epoch': 1.98}\n"
     ]
    },
    {
     "name": "stderr",
     "output_type": "stream",
     "text": [
      " 34%|███▍      | 1600/4692 [38:46<1:12:19,  1.40s/it]"
     ]
    },
    {
     "name": "stdout",
     "output_type": "stream",
     "text": [
      "{'loss': 0.0842, 'grad_norm': 3.509106397628784, 'learning_rate': 2.9513358778625956e-05, 'epoch': 2.05}\n"
     ]
    },
    {
     "name": "stderr",
     "output_type": "stream",
     "text": [
      " 35%|███▌      | 1650/4692 [39:56<1:11:30,  1.41s/it]"
     ]
    },
    {
     "name": "stdout",
     "output_type": "stream",
     "text": [
      "{'loss': 0.0608, 'grad_norm': 4.455018520355225, 'learning_rate': 2.9036259541984737e-05, 'epoch': 2.11}\n"
     ]
    },
    {
     "name": "stderr",
     "output_type": "stream",
     "text": [
      " 36%|███▌      | 1700/4692 [41:07<1:09:56,  1.40s/it]"
     ]
    },
    {
     "name": "stdout",
     "output_type": "stream",
     "text": [
      "{'loss': 0.0487, 'grad_norm': 5.2104082107543945, 'learning_rate': 2.8559160305343515e-05, 'epoch': 2.17}\n"
     ]
    },
    {
     "name": "stderr",
     "output_type": "stream",
     "text": [
      " 37%|███▋      | 1750/4692 [42:17<1:08:47,  1.40s/it]"
     ]
    },
    {
     "name": "stdout",
     "output_type": "stream",
     "text": [
      "{'loss': 0.0584, 'grad_norm': 2.7924294471740723, 'learning_rate': 2.808206106870229e-05, 'epoch': 2.24}\n"
     ]
    },
    {
     "name": "stderr",
     "output_type": "stream",
     "text": [
      " 38%|███▊      | 1800/4692 [43:27<1:07:54,  1.41s/it]"
     ]
    },
    {
     "name": "stdout",
     "output_type": "stream",
     "text": [
      "{'loss': 0.0667, 'grad_norm': 2.072479724884033, 'learning_rate': 2.760496183206107e-05, 'epoch': 2.3}\n"
     ]
    },
    {
     "name": "stderr",
     "output_type": "stream",
     "text": [
      " 39%|███▉      | 1850/4692 [44:38<1:06:28,  1.40s/it]"
     ]
    },
    {
     "name": "stdout",
     "output_type": "stream",
     "text": [
      "{'loss': 0.0698, 'grad_norm': 0.9945819973945618, 'learning_rate': 2.712786259541985e-05, 'epoch': 2.37}\n"
     ]
    },
    {
     "name": "stderr",
     "output_type": "stream",
     "text": [
      " 40%|████      | 1900/4692 [45:48<1:05:10,  1.40s/it]"
     ]
    },
    {
     "name": "stdout",
     "output_type": "stream",
     "text": [
      "{'loss': 0.0635, 'grad_norm': 6.507192134857178, 'learning_rate': 2.6650763358778628e-05, 'epoch': 2.43}\n"
     ]
    },
    {
     "name": "stderr",
     "output_type": "stream",
     "text": [
      " 42%|████▏     | 1950/4692 [46:59<1:04:24,  1.41s/it]"
     ]
    },
    {
     "name": "stdout",
     "output_type": "stream",
     "text": [
      "{'loss': 0.0458, 'grad_norm': 4.150006294250488, 'learning_rate': 2.617366412213741e-05, 'epoch': 2.49}\n"
     ]
    },
    {
     "name": "stderr",
     "output_type": "stream",
     "text": [
      " 43%|████▎     | 2000/4692 [48:09<1:02:53,  1.40s/it]"
     ]
    },
    {
     "name": "stdout",
     "output_type": "stream",
     "text": [
      "{'loss': 0.0556, 'grad_norm': 0.9174397587776184, 'learning_rate': 2.5696564885496184e-05, 'epoch': 2.56}\n"
     ]
    },
    {
     "name": "stderr",
     "output_type": "stream",
     "text": [
      "                                                     \n",
      " 43%|████▎     | 2000/4692 [48:25<1:02:53,  1.40s/it]"
     ]
    },
    {
     "name": "stdout",
     "output_type": "stream",
     "text": [
      "{'eval_loss': 0.187654510140419, 'eval_accuracy': 0.9434, 'eval_runtime': 15.9956, 'eval_samples_per_second': 625.173, 'eval_steps_per_second': 9.815, 'epoch': 2.56}\n"
     ]
    },
    {
     "name": "stderr",
     "output_type": "stream",
     "text": [
      " 44%|████▎     | 2050/4692 [49:36<1:01:45,  1.40s/it]"
     ]
    },
    {
     "name": "stdout",
     "output_type": "stream",
     "text": [
      "{'loss': 0.0546, 'grad_norm': 0.7157623767852783, 'learning_rate': 2.5219465648854965e-05, 'epoch': 2.62}\n"
     ]
    },
    {
     "name": "stderr",
     "output_type": "stream",
     "text": [
      " 45%|████▍     | 2100/4692 [50:47<1:00:30,  1.40s/it]"
     ]
    },
    {
     "name": "stdout",
     "output_type": "stream",
     "text": [
      "{'loss': 0.062, 'grad_norm': 4.901782989501953, 'learning_rate': 2.4742366412213743e-05, 'epoch': 2.69}\n"
     ]
    },
    {
     "name": "stderr",
     "output_type": "stream",
     "text": [
      " 46%|████▌     | 2150/4692 [51:57<59:42,  1.41s/it]  "
     ]
    },
    {
     "name": "stdout",
     "output_type": "stream",
     "text": [
      "{'loss': 0.067, 'grad_norm': 3.557919502258301, 'learning_rate': 2.426526717557252e-05, 'epoch': 2.75}\n"
     ]
    },
    {
     "name": "stderr",
     "output_type": "stream",
     "text": [
      " 47%|████▋     | 2200/4692 [53:07<58:10,  1.40s/it]  "
     ]
    },
    {
     "name": "stdout",
     "output_type": "stream",
     "text": [
      "{'loss': 0.0567, 'grad_norm': 2.366058588027954, 'learning_rate': 2.3788167938931302e-05, 'epoch': 2.81}\n"
     ]
    },
    {
     "name": "stderr",
     "output_type": "stream",
     "text": [
      " 48%|████▊     | 2250/4692 [54:18<56:49,  1.40s/it]"
     ]
    },
    {
     "name": "stdout",
     "output_type": "stream",
     "text": [
      "{'loss': 0.0615, 'grad_norm': 3.4676594734191895, 'learning_rate': 2.3311068702290077e-05, 'epoch': 2.88}\n"
     ]
    },
    {
     "name": "stderr",
     "output_type": "stream",
     "text": [
      " 49%|████▉     | 2300/4692 [55:28<56:01,  1.41s/it]"
     ]
    },
    {
     "name": "stdout",
     "output_type": "stream",
     "text": [
      "{'loss': 0.0489, 'grad_norm': 2.5740249156951904, 'learning_rate': 2.2833969465648855e-05, 'epoch': 2.94}\n"
     ]
    },
    {
     "name": "stderr",
     "output_type": "stream",
     "text": [
      " 50%|█████     | 2350/4692 [56:37<51:41,  1.32s/it]"
     ]
    },
    {
     "name": "stdout",
     "output_type": "stream",
     "text": [
      "{'loss': 0.0706, 'grad_norm': 0.4774785339832306, 'learning_rate': 2.2356870229007637e-05, 'epoch': 3.01}\n"
     ]
    },
    {
     "name": "stderr",
     "output_type": "stream",
     "text": [
      " 51%|█████     | 2400/4692 [57:47<53:28,  1.40s/it]"
     ]
    },
    {
     "name": "stdout",
     "output_type": "stream",
     "text": [
      "{'loss': 0.0377, 'grad_norm': 0.2676854133605957, 'learning_rate': 2.1879770992366415e-05, 'epoch': 3.07}\n"
     ]
    },
    {
     "name": "stderr",
     "output_type": "stream",
     "text": [
      " 52%|█████▏    | 2450/4692 [58:58<52:30,  1.41s/it]"
     ]
    },
    {
     "name": "stdout",
     "output_type": "stream",
     "text": [
      "{'loss': 0.0389, 'grad_norm': 1.1710565090179443, 'learning_rate': 2.140267175572519e-05, 'epoch': 3.13}\n"
     ]
    },
    {
     "name": "stderr",
     "output_type": "stream",
     "text": [
      " 53%|█████▎    | 2500/4692 [1:00:08<51:06,  1.40s/it]"
     ]
    },
    {
     "name": "stdout",
     "output_type": "stream",
     "text": [
      "{'loss': 0.0303, 'grad_norm': 2.8458449840545654, 'learning_rate': 2.092557251908397e-05, 'epoch': 3.2}\n"
     ]
    },
    {
     "name": "stderr",
     "output_type": "stream",
     "text": [
      "                                                     \n",
      " 53%|█████▎    | 2500/4692 [1:00:24<51:06,  1.40s/it]"
     ]
    },
    {
     "name": "stdout",
     "output_type": "stream",
     "text": [
      "{'eval_loss': 0.2462233453989029, 'eval_accuracy': 0.9455, 'eval_runtime': 15.9077, 'eval_samples_per_second': 628.626, 'eval_steps_per_second': 9.869, 'epoch': 3.2}\n"
     ]
    },
    {
     "name": "stderr",
     "output_type": "stream",
     "text": [
      " 54%|█████▍    | 2550/4692 [1:01:35<50:18,  1.41s/it]  "
     ]
    },
    {
     "name": "stdout",
     "output_type": "stream",
     "text": [
      "{'loss': 0.0309, 'grad_norm': 0.0984199047088623, 'learning_rate': 2.045801526717557e-05, 'epoch': 3.26}\n"
     ]
    },
    {
     "name": "stderr",
     "output_type": "stream",
     "text": [
      " 55%|█████▌    | 2600/4692 [1:02:45<48:50,  1.40s/it]"
     ]
    },
    {
     "name": "stdout",
     "output_type": "stream",
     "text": [
      "{'loss': 0.0374, 'grad_norm': 0.10704638808965683, 'learning_rate': 1.9980916030534353e-05, 'epoch': 3.32}\n"
     ]
    },
    {
     "name": "stderr",
     "output_type": "stream",
     "text": [
      " 56%|█████▋    | 2650/4692 [1:03:56<47:50,  1.41s/it]"
     ]
    },
    {
     "name": "stdout",
     "output_type": "stream",
     "text": [
      "{'loss': 0.0216, 'grad_norm': 2.9505157470703125, 'learning_rate': 1.950381679389313e-05, 'epoch': 3.39}\n"
     ]
    },
    {
     "name": "stderr",
     "output_type": "stream",
     "text": [
      " 58%|█████▊    | 2700/4692 [1:05:06<46:36,  1.40s/it]"
     ]
    },
    {
     "name": "stdout",
     "output_type": "stream",
     "text": [
      "{'loss': 0.0262, 'grad_norm': 0.319536417722702, 'learning_rate': 1.902671755725191e-05, 'epoch': 3.45}\n"
     ]
    },
    {
     "name": "stderr",
     "output_type": "stream",
     "text": [
      " 59%|█████▊    | 2750/4692 [1:06:16<45:18,  1.40s/it]"
     ]
    },
    {
     "name": "stdout",
     "output_type": "stream",
     "text": [
      "{'loss': 0.0276, 'grad_norm': 1.9234026670455933, 'learning_rate': 1.854961832061069e-05, 'epoch': 3.52}\n"
     ]
    },
    {
     "name": "stderr",
     "output_type": "stream",
     "text": [
      " 60%|█████▉    | 2800/4692 [1:07:27<44:32,  1.41s/it]"
     ]
    },
    {
     "name": "stdout",
     "output_type": "stream",
     "text": [
      "{'loss': 0.0361, 'grad_norm': 0.07514207810163498, 'learning_rate': 1.8072519083969465e-05, 'epoch': 3.58}\n"
     ]
    },
    {
     "name": "stderr",
     "output_type": "stream",
     "text": [
      " 61%|██████    | 2850/4692 [1:08:37<42:56,  1.40s/it]"
     ]
    },
    {
     "name": "stdout",
     "output_type": "stream",
     "text": [
      "{'loss': 0.0311, 'grad_norm': 0.07151900231838226, 'learning_rate': 1.7595419847328246e-05, 'epoch': 3.64}\n"
     ]
    },
    {
     "name": "stderr",
     "output_type": "stream",
     "text": [
      " 62%|██████▏   | 2900/4692 [1:09:47<41:45,  1.40s/it]"
     ]
    },
    {
     "name": "stdout",
     "output_type": "stream",
     "text": [
      "{'loss': 0.0369, 'grad_norm': 0.08640231937170029, 'learning_rate': 1.7118320610687024e-05, 'epoch': 3.71}\n"
     ]
    },
    {
     "name": "stderr",
     "output_type": "stream",
     "text": [
      " 63%|██████▎   | 2950/4692 [1:10:58<40:54,  1.41s/it]"
     ]
    },
    {
     "name": "stdout",
     "output_type": "stream",
     "text": [
      "{'loss': 0.0189, 'grad_norm': 9.107558250427246, 'learning_rate': 1.6641221374045802e-05, 'epoch': 3.77}\n"
     ]
    },
    {
     "name": "stderr",
     "output_type": "stream",
     "text": [
      " 64%|██████▍   | 3000/4692 [1:12:08<39:24,  1.40s/it]"
     ]
    },
    {
     "name": "stdout",
     "output_type": "stream",
     "text": [
      "{'loss': 0.039, 'grad_norm': 0.7304208278656006, 'learning_rate': 1.616412213740458e-05, 'epoch': 3.84}\n"
     ]
    },
    {
     "name": "stderr",
     "output_type": "stream",
     "text": [
      "                                                     \n",
      " 64%|██████▍   | 3000/4692 [1:12:24<39:24,  1.40s/it]"
     ]
    },
    {
     "name": "stdout",
     "output_type": "stream",
     "text": [
      "{'eval_loss': 0.24755507707595825, 'eval_accuracy': 0.9437, 'eval_runtime': 15.8899, 'eval_samples_per_second': 629.332, 'eval_steps_per_second': 9.881, 'epoch': 3.84}\n"
     ]
    },
    {
     "name": "stderr",
     "output_type": "stream",
     "text": [
      " 65%|██████▌   | 3050/4692 [1:13:35<38:27,  1.41s/it]  "
     ]
    },
    {
     "name": "stdout",
     "output_type": "stream",
     "text": [
      "{'loss': 0.029, 'grad_norm': 0.06578526645898819, 'learning_rate': 1.5687022900763362e-05, 'epoch': 3.9}\n"
     ]
    },
    {
     "name": "stderr",
     "output_type": "stream",
     "text": [
      " 66%|██████▌   | 3100/4692 [1:14:45<37:17,  1.41s/it]"
     ]
    },
    {
     "name": "stdout",
     "output_type": "stream",
     "text": [
      "{'loss': 0.0326, 'grad_norm': 4.365155220031738, 'learning_rate': 1.520992366412214e-05, 'epoch': 3.96}\n"
     ]
    },
    {
     "name": "stderr",
     "output_type": "stream",
     "text": [
      " 67%|██████▋   | 3150/4692 [1:15:55<36:14,  1.41s/it]"
     ]
    },
    {
     "name": "stdout",
     "output_type": "stream",
     "text": [
      "{'loss': 0.0243, 'grad_norm': 2.861560106277466, 'learning_rate': 1.4732824427480916e-05, 'epoch': 4.03}\n"
     ]
    },
    {
     "name": "stderr",
     "output_type": "stream",
     "text": [
      " 68%|██████▊   | 3200/4692 [1:17:05<34:52,  1.40s/it]"
     ]
    },
    {
     "name": "stdout",
     "output_type": "stream",
     "text": [
      "{'loss': 0.0131, 'grad_norm': 5.007264614105225, 'learning_rate': 1.4255725190839696e-05, 'epoch': 4.09}\n"
     ]
    },
    {
     "name": "stderr",
     "output_type": "stream",
     "text": [
      " 69%|██████▉   | 3250/4692 [1:18:16<35:38,  1.48s/it]"
     ]
    },
    {
     "name": "stdout",
     "output_type": "stream",
     "text": [
      "{'loss': 0.0176, 'grad_norm': 0.04548634961247444, 'learning_rate': 1.3778625954198474e-05, 'epoch': 4.16}\n"
     ]
    },
    {
     "name": "stderr",
     "output_type": "stream",
     "text": [
      " 70%|███████   | 3300/4692 [1:19:30<34:16,  1.48s/it]"
     ]
    },
    {
     "name": "stdout",
     "output_type": "stream",
     "text": [
      "{'loss': 0.0079, 'grad_norm': 0.03453375771641731, 'learning_rate': 1.3301526717557254e-05, 'epoch': 4.22}\n"
     ]
    },
    {
     "name": "stderr",
     "output_type": "stream",
     "text": [
      " 71%|███████▏  | 3350/4692 [1:20:44<33:37,  1.50s/it]"
     ]
    },
    {
     "name": "stdout",
     "output_type": "stream",
     "text": [
      "{'loss': 0.0226, 'grad_norm': 0.04962273687124252, 'learning_rate': 1.2824427480916032e-05, 'epoch': 4.28}\n"
     ]
    },
    {
     "name": "stderr",
     "output_type": "stream",
     "text": [
      " 72%|███████▏  | 3400/4692 [1:21:58<31:47,  1.48s/it]"
     ]
    },
    {
     "name": "stdout",
     "output_type": "stream",
     "text": [
      "{'loss': 0.0125, 'grad_norm': 0.6006888151168823, 'learning_rate': 1.234732824427481e-05, 'epoch': 4.35}\n"
     ]
    },
    {
     "name": "stderr",
     "output_type": "stream",
     "text": [
      " 74%|███████▎  | 3450/4692 [1:23:10<29:08,  1.41s/it]"
     ]
    },
    {
     "name": "stdout",
     "output_type": "stream",
     "text": [
      "{'loss': 0.0217, 'grad_norm': 2.2395756244659424, 'learning_rate': 1.187022900763359e-05, 'epoch': 4.41}\n"
     ]
    },
    {
     "name": "stderr",
     "output_type": "stream",
     "text": [
      " 75%|███████▍  | 3500/4692 [1:24:21<27:55,  1.41s/it]"
     ]
    },
    {
     "name": "stdout",
     "output_type": "stream",
     "text": [
      "{'loss': 0.0184, 'grad_norm': 0.04456968605518341, 'learning_rate': 1.1393129770992369e-05, 'epoch': 4.48}\n"
     ]
    },
    {
     "name": "stderr",
     "output_type": "stream",
     "text": [
      "                                                     \n",
      " 75%|███████▍  | 3500/4692 [1:24:37<27:55,  1.41s/it]"
     ]
    },
    {
     "name": "stdout",
     "output_type": "stream",
     "text": [
      "{'eval_loss': 0.2698443531990051, 'eval_accuracy': 0.9452, 'eval_runtime': 15.9076, 'eval_samples_per_second': 628.632, 'eval_steps_per_second': 9.87, 'epoch': 4.48}\n"
     ]
    },
    {
     "name": "stderr",
     "output_type": "stream",
     "text": [
      " 76%|███████▌  | 3550/4692 [1:25:47<27:41,  1.45s/it]  "
     ]
    },
    {
     "name": "stdout",
     "output_type": "stream",
     "text": [
      "{'loss': 0.0094, 'grad_norm': 0.031746555119752884, 'learning_rate': 1.0916030534351145e-05, 'epoch': 4.54}\n"
     ]
    },
    {
     "name": "stderr",
     "output_type": "stream",
     "text": [
      " 77%|███████▋  | 3600/4692 [1:27:00<25:30,  1.40s/it]"
     ]
    },
    {
     "name": "stdout",
     "output_type": "stream",
     "text": [
      "{'loss': 0.0168, 'grad_norm': 0.04428074136376381, 'learning_rate': 1.0438931297709925e-05, 'epoch': 4.6}\n"
     ]
    },
    {
     "name": "stderr",
     "output_type": "stream",
     "text": [
      " 78%|███████▊  | 3650/4692 [1:28:10<24:29,  1.41s/it]"
     ]
    },
    {
     "name": "stdout",
     "output_type": "stream",
     "text": [
      "{'loss': 0.0254, 'grad_norm': 0.4066941440105438, 'learning_rate': 9.961832061068703e-06, 'epoch': 4.67}\n"
     ]
    },
    {
     "name": "stderr",
     "output_type": "stream",
     "text": [
      " 79%|███████▉  | 3700/4692 [1:29:21<23:00,  1.39s/it]"
     ]
    },
    {
     "name": "stdout",
     "output_type": "stream",
     "text": [
      "{'loss': 0.009, 'grad_norm': 0.08512149751186371, 'learning_rate': 9.484732824427481e-06, 'epoch': 4.73}\n"
     ]
    },
    {
     "name": "stderr",
     "output_type": "stream",
     "text": [
      " 80%|███████▉  | 3750/4692 [1:30:30<21:47,  1.39s/it]"
     ]
    },
    {
     "name": "stdout",
     "output_type": "stream",
     "text": [
      "{'loss': 0.0175, 'grad_norm': 0.06154152378439903, 'learning_rate': 9.007633587786259e-06, 'epoch': 4.8}\n"
     ]
    },
    {
     "name": "stderr",
     "output_type": "stream",
     "text": [
      " 81%|████████  | 3800/4692 [1:31:39<20:34,  1.38s/it]"
     ]
    },
    {
     "name": "stdout",
     "output_type": "stream",
     "text": [
      "{'loss': 0.0177, 'grad_norm': 0.09940209239721298, 'learning_rate': 8.530534351145039e-06, 'epoch': 4.86}\n"
     ]
    },
    {
     "name": "stderr",
     "output_type": "stream",
     "text": [
      " 82%|████████▏ | 3850/4692 [1:32:49<19:29,  1.39s/it]"
     ]
    },
    {
     "name": "stdout",
     "output_type": "stream",
     "text": [
      "{'loss': 0.0129, 'grad_norm': 0.046892739832401276, 'learning_rate': 8.053435114503817e-06, 'epoch': 4.92}\n"
     ]
    },
    {
     "name": "stderr",
     "output_type": "stream",
     "text": [
      " 83%|████████▎ | 3900/4692 [1:33:59<18:28,  1.40s/it]"
     ]
    },
    {
     "name": "stdout",
     "output_type": "stream",
     "text": [
      "{'loss': 0.0186, 'grad_norm': 3.695354461669922, 'learning_rate': 7.5763358778625966e-06, 'epoch': 4.99}\n"
     ]
    },
    {
     "name": "stderr",
     "output_type": "stream",
     "text": [
      " 84%|████████▍ | 3950/4692 [1:35:08<17:07,  1.38s/it]"
     ]
    },
    {
     "name": "stdout",
     "output_type": "stream",
     "text": [
      "{'loss': 0.0132, 'grad_norm': 6.2758965492248535, 'learning_rate': 7.0992366412213746e-06, 'epoch': 5.05}\n"
     ]
    },
    {
     "name": "stderr",
     "output_type": "stream",
     "text": [
      " 85%|████████▌ | 4000/4692 [1:36:17<15:59,  1.39s/it]"
     ]
    },
    {
     "name": "stdout",
     "output_type": "stream",
     "text": [
      "{'loss': 0.0103, 'grad_norm': 0.040127553045749664, 'learning_rate': 6.6221374045801534e-06, 'epoch': 5.12}\n"
     ]
    },
    {
     "name": "stderr",
     "output_type": "stream",
     "text": [
      "                                                     \n",
      " 85%|████████▌ | 4000/4692 [1:36:33<15:59,  1.39s/it]"
     ]
    },
    {
     "name": "stdout",
     "output_type": "stream",
     "text": [
      "{'eval_loss': 0.30021634697914124, 'eval_accuracy': 0.9443, 'eval_runtime': 15.8187, 'eval_samples_per_second': 632.164, 'eval_steps_per_second': 9.925, 'epoch': 5.12}\n"
     ]
    },
    {
     "name": "stderr",
     "output_type": "stream",
     "text": [
      " 86%|████████▋ | 4050/4692 [1:37:43<14:48,  1.38s/it]  "
     ]
    },
    {
     "name": "stdout",
     "output_type": "stream",
     "text": [
      "{'loss': 0.0115, 'grad_norm': 11.156649589538574, 'learning_rate': 6.1450381679389315e-06, 'epoch': 5.18}\n"
     ]
    },
    {
     "name": "stderr",
     "output_type": "stream",
     "text": [
      " 87%|████████▋ | 4100/4692 [1:38:52<13:40,  1.39s/it]"
     ]
    },
    {
     "name": "stdout",
     "output_type": "stream",
     "text": [
      "{'loss': 0.0058, 'grad_norm': 0.03889934718608856, 'learning_rate': 5.66793893129771e-06, 'epoch': 5.24}\n"
     ]
    },
    {
     "name": "stderr",
     "output_type": "stream",
     "text": [
      " 88%|████████▊ | 4150/4692 [1:40:01<12:31,  1.39s/it]"
     ]
    },
    {
     "name": "stdout",
     "output_type": "stream",
     "text": [
      "{'loss': 0.0057, 'grad_norm': 0.02477019838988781, 'learning_rate': 5.190839694656488e-06, 'epoch': 5.31}\n"
     ]
    },
    {
     "name": "stderr",
     "output_type": "stream",
     "text": [
      " 90%|████████▉ | 4200/4692 [1:41:11<11:23,  1.39s/it]"
     ]
    },
    {
     "name": "stdout",
     "output_type": "stream",
     "text": [
      "{'loss': 0.011, 'grad_norm': 0.026080137118697166, 'learning_rate': 4.713740458015267e-06, 'epoch': 5.37}\n"
     ]
    },
    {
     "name": "stderr",
     "output_type": "stream",
     "text": [
      " 91%|█████████ | 4250/4692 [1:42:20<10:13,  1.39s/it]"
     ]
    },
    {
     "name": "stdout",
     "output_type": "stream",
     "text": [
      "{'loss': 0.0136, 'grad_norm': 0.037530865520238876, 'learning_rate': 4.236641221374046e-06, 'epoch': 5.43}\n"
     ]
    },
    {
     "name": "stderr",
     "output_type": "stream",
     "text": [
      " 92%|█████████▏| 4300/4692 [1:43:29<09:02,  1.39s/it]"
     ]
    },
    {
     "name": "stdout",
     "output_type": "stream",
     "text": [
      "{'loss': 0.0134, 'grad_norm': 0.04420870542526245, 'learning_rate': 3.7595419847328245e-06, 'epoch': 5.5}\n"
     ]
    },
    {
     "name": "stderr",
     "output_type": "stream",
     "text": [
      " 93%|█████████▎| 4350/4692 [1:44:39<07:53,  1.38s/it]"
     ]
    },
    {
     "name": "stdout",
     "output_type": "stream",
     "text": [
      "{'loss': 0.0105, 'grad_norm': 0.04710176959633827, 'learning_rate': 3.2824427480916034e-06, 'epoch': 5.56}\n"
     ]
    },
    {
     "name": "stderr",
     "output_type": "stream",
     "text": [
      " 94%|█████████▍| 4400/4692 [1:45:48<06:44,  1.39s/it]"
     ]
    },
    {
     "name": "stdout",
     "output_type": "stream",
     "text": [
      "{'loss': 0.0107, 'grad_norm': 0.05931054428219795, 'learning_rate': 2.805343511450382e-06, 'epoch': 5.63}\n"
     ]
    },
    {
     "name": "stderr",
     "output_type": "stream",
     "text": [
      " 95%|█████████▍| 4450/4692 [1:46:57<05:35,  1.39s/it]"
     ]
    },
    {
     "name": "stdout",
     "output_type": "stream",
     "text": [
      "{'loss': 0.0112, 'grad_norm': 2.0736491680145264, 'learning_rate': 2.3282442748091603e-06, 'epoch': 5.69}\n"
     ]
    },
    {
     "name": "stderr",
     "output_type": "stream",
     "text": [
      " 96%|█████████▌| 4500/4692 [1:48:06<04:25,  1.39s/it]"
     ]
    },
    {
     "name": "stdout",
     "output_type": "stream",
     "text": [
      "{'loss': 0.0076, 'grad_norm': 1.0581622123718262, 'learning_rate': 1.8511450381679392e-06, 'epoch': 5.75}\n"
     ]
    },
    {
     "name": "stderr",
     "output_type": "stream",
     "text": [
      "                                                     \n",
      " 96%|█████████▌| 4500/4692 [1:48:22<04:25,  1.39s/it]"
     ]
    },
    {
     "name": "stdout",
     "output_type": "stream",
     "text": [
      "{'eval_loss': 0.3136238157749176, 'eval_accuracy': 0.9445, 'eval_runtime': 15.7936, 'eval_samples_per_second': 633.167, 'eval_steps_per_second': 9.941, 'epoch': 5.75}\n"
     ]
    },
    {
     "name": "stderr",
     "output_type": "stream",
     "text": [
      " 97%|█████████▋| 4550/4692 [1:49:33<03:16,  1.39s/it]"
     ]
    },
    {
     "name": "stdout",
     "output_type": "stream",
     "text": [
      "{'loss': 0.0092, 'grad_norm': 6.925151348114014, 'learning_rate': 1.3740458015267178e-06, 'epoch': 5.82}\n"
     ]
    },
    {
     "name": "stderr",
     "output_type": "stream",
     "text": [
      " 98%|█████████▊| 4600/4692 [1:50:42<02:07,  1.38s/it]"
     ]
    },
    {
     "name": "stdout",
     "output_type": "stream",
     "text": [
      "{'loss': 0.0169, 'grad_norm': 0.9133148193359375, 'learning_rate': 8.969465648854963e-07, 'epoch': 5.88}\n"
     ]
    },
    {
     "name": "stderr",
     "output_type": "stream",
     "text": [
      " 99%|█████████▉| 4650/4692 [1:51:51<00:58,  1.38s/it]"
     ]
    },
    {
     "name": "stdout",
     "output_type": "stream",
     "text": [
      "{'loss': 0.0052, 'grad_norm': 0.023547369986772537, 'learning_rate': 4.1984732824427486e-07, 'epoch': 5.95}\n"
     ]
    },
    {
     "name": "stderr",
     "output_type": "stream",
     "text": [
      "100%|██████████| 4692/4692 [1:52:49<00:00,  1.44s/it]"
     ]
    },
    {
     "name": "stdout",
     "output_type": "stream",
     "text": [
      "{'train_runtime': 6769.6132, 'train_samples_per_second': 44.316, 'train_steps_per_second': 0.693, 'train_loss': 0.07396533634300834, 'epoch': 6.0}\n"
     ]
    },
    {
     "name": "stderr",
     "output_type": "stream",
     "text": [
      "\n"
     ]
    },
    {
     "data": {
      "text/plain": [
       "TrainOutput(global_step=4692, training_loss=0.07396533634300834, metrics={'train_runtime': 6769.6132, 'train_samples_per_second': 44.316, 'train_steps_per_second': 0.693, 'total_flos': 9935054899200000.0, 'train_loss': 0.07396533634300834, 'epoch': 6.0})"
      ]
     },
     "execution_count": 93,
     "metadata": {},
     "output_type": "execute_result"
    }
   ],
   "source": [
    "# Train Model\n",
    "print(\"\\nTraining the model...\")\n",
    "trainer.train()"
   ]
  },
  {
   "cell_type": "code",
   "execution_count": 94,
   "metadata": {},
   "outputs": [
    {
     "name": "stderr",
     "output_type": "stream",
     "text": [
      "100%|██████████| 157/157 [00:15<00:00, 10.10it/s]"
     ]
    },
    {
     "name": "stdout",
     "output_type": "stream",
     "text": [
      "\n",
      "Evaluation Results:\n",
      "{'eval_loss': 0.3105713129043579, 'eval_accuracy': 0.9444, 'eval_runtime': 15.6249, 'eval_samples_per_second': 640.006, 'eval_steps_per_second': 10.048, 'epoch': 6.0}\n"
     ]
    },
    {
     "name": "stderr",
     "output_type": "stream",
     "text": [
      "\n"
     ]
    }
   ],
   "source": [
    "# Evaluate the model on the test set\n",
    "eval_results = trainer.evaluate()  \n",
    "print(\"\\nEvaluation Results:\")  \n",
    "print(eval_results)  "
   ]
  },
  {
   "cell_type": "code",
   "execution_count": 95,
   "metadata": {},
   "outputs": [
    {
     "name": "stdout",
     "output_type": "stream",
     "text": [
      "\n",
      "Generating ROC Curve...\n"
     ]
    },
    {
     "name": "stderr",
     "output_type": "stream",
     "text": [
      "100%|██████████| 157/157 [00:15<00:00, 10.06it/s]\n"
     ]
    },
    {
     "data": {
      "image/png": "[encoded data removed]",
      "text/plain": [
       "<Figure size 800x600 with 1 Axes>"
      ]
     },
     "metadata": {},
     "output_type": "display_data"
    }
   ],
   "source": [
    "# Plotting the ROC Curve\n",
    "print(\"\\nGenerating ROC Curve...\")\n",
    "# Get predictions for the test set\n",
    "predictions = trainer.predict(test_data)\n",
    "\n",
    "# Calculate probabilities for the positive class (logits -> probabilities)\n",
    "probs = np.exp(predictions.predictions) / np.exp(predictions.predictions).sum(axis=-1, keepdims=True)\n",
    "positive_probs = probs[:, 1]  # Probabilities for the positive class\n",
    "\n",
    "# Get the true labels\n",
    "labels = predictions.label_ids\n",
    "\n",
    "# Calculate the ROC curve\n",
    "fpr, tpr, thresholds = roc_curve(labels, positive_probs)  # False positive rate and true positive rate\n",
    "roc_auc = auc(fpr, tpr)  \n",
    "\n",
    "# Plot the ROC Curve\n",
    "plt.figure(figsize=(8, 6))\n",
    "plt.plot(fpr, tpr, color='blue', label=f'ROC Curve (AUC = {roc_auc:.2f})')\n",
    "plt.plot([0, 1], [0, 1], color='gray', linestyle='--')  \n",
    "plt.title('Receiver Operating Characteristic (ROC) Curve')\n",
    "plt.xlabel('False Positive Rate (FPR)')\n",
    "plt.ylabel('True Positive Rate (TPR)')\n",
    "plt.legend(loc=\"lower right\")\n",
    "plt.grid(alpha=0.3)\n",
    "plt.show()"
   ]
  },
  {
   "cell_type": "markdown",
   "metadata": {},
   "source": [
    "Save and Load Model"
   ]
  },
  {
   "cell_type": "code",
   "execution_count": 96,
   "metadata": {},
   "outputs": [],
   "source": [
    "# Save the complete model (including architecture and weights)\n",
    "def save_model(model, path):\n",
    "    torch.save(model, path)  \n",
    "    print(f\"Model saved to {path}\")"
   ]
  },
  {
   "cell_type": "code",
   "execution_count": 97,
   "metadata": {},
   "outputs": [],
   "source": [
    "# Function to load the model\n",
    "def load_model(path, device='cpu'):\n",
    "    model = torch.load(path, map_location=device)\n",
    "    model.to(device)  \n",
    "    print(f\"Model loaded from {path}\")\n",
    "    return model"
   ]
  },
  {
   "cell_type": "code",
   "execution_count": 98,
   "metadata": {},
   "outputs": [
    {
     "name": "stdout",
     "output_type": "stream",
     "text": [
      "Model saved to C:\\Users\\Lucas\\Desktop\\Analisis de sentimientos\\Models\\sentiment analyser.pt\n"
     ]
    },
    {
     "name": "stderr",
     "output_type": "stream",
     "text": [
      "C:\\Users\\Lucas\\AppData\\Local\\Temp\\ipykernel_9476\\3360268112.py:3: FutureWarning: You are using `torch.load` with `weights_only=False` (the current default value), which uses the default pickle module implicitly. It is possible to construct malicious pickle data which will execute arbitrary code during unpickling (See https://github.com/pytorch/pytorch/blob/main/SECURITY.md#untrusted-models for more details). In a future release, the default value for `weights_only` will be flipped to `True`. This limits the functions that could be executed during unpickling. Arbitrary objects will no longer be allowed to be loaded via this mode unless they are explicitly allowlisted by the user via `torch.serialization.add_safe_globals`. We recommend you start setting `weights_only=True` for any use case where you don't have full control of the loaded file. Please open an issue on GitHub for any issues related to this experimental feature.\n",
      "  model = torch.load(path, map_location=device)\n"
     ]
    },
    {
     "name": "stdout",
     "output_type": "stream",
     "text": [
      "Model loaded from C:\\Users\\Lucas\\Desktop\\Analisis de sentimientos\\Models\\sentiment analyser.pt\n",
      "DistilBertForSequenceClassification(\n",
      "  (distilbert): DistilBertModel(\n",
      "    (embeddings): Embeddings(\n",
      "      (word_embeddings): Embedding(30522, 768, padding_idx=0)\n",
      "      (position_embeddings): Embedding(512, 768)\n",
      "      (LayerNorm): LayerNorm((768,), eps=1e-12, elementwise_affine=True)\n",
      "      (dropout): Dropout(p=0.1, inplace=False)\n",
      "    )\n",
      "    (transformer): Transformer(\n",
      "      (layer): ModuleList(\n",
      "        (0-5): 6 x TransformerBlock(\n",
      "          (attention): DistilBertSdpaAttention(\n",
      "            (dropout): Dropout(p=0.1, inplace=False)\n",
      "            (q_lin): Linear(in_features=768, out_features=768, bias=True)\n",
      "            (k_lin): Linear(in_features=768, out_features=768, bias=True)\n",
      "            (v_lin): Linear(in_features=768, out_features=768, bias=True)\n",
      "            (out_lin): Linear(in_features=768, out_features=768, bias=True)\n",
      "          )\n",
      "          (sa_layer_norm): LayerNorm((768,), eps=1e-12, elementwise_affine=True)\n",
      "          (ffn): FFN(\n",
      "            (dropout): Dropout(p=0.1, inplace=False)\n",
      "            (lin1): Linear(in_features=768, out_features=3072, bias=True)\n",
      "            (lin2): Linear(in_features=3072, out_features=768, bias=True)\n",
      "            (activation): GELUActivation()\n",
      "          )\n",
      "          (output_layer_norm): LayerNorm((768,), eps=1e-12, elementwise_affine=True)\n",
      "        )\n",
      "      )\n",
      "    )\n",
      "  )\n",
      "  (pre_classifier): Linear(in_features=768, out_features=768, bias=True)\n",
      "  (classifier): Linear(in_features=768, out_features=2, bias=True)\n",
      "  (dropout): Dropout(p=0.2, inplace=False)\n",
      ")\n"
     ]
    }
   ],
   "source": [
    "# Save path\n",
    "save_path = r\"C:\\Users\\Lucas\\Desktop\\Analisis de sentimientos\\Models\\sentiment analyser.pt\"\n",
    "save_model(model, save_path)\n",
    "\n",
    "# Load the model again to verify\n",
    "model_loaded = load_model(save_path, device='cuda' if torch.cuda.is_available() else 'cpu')\n",
    "\n",
    "# Verify if the model was loaded correctly\n",
    "print(model_loaded)"
   ]
  }
 ],
 "metadata": {
  "kernelspec": {
   "display_name": "Python 3",
   "language": "python",
   "name": "python3"
  },
  "language_info": {
   "codemirror_mode": {
    "name": "ipython",
    "version": 3
   },
   "file_extension": ".py",
   "mimetype": "text/x-python",
   "name": "python",
   "nbconvert_exporter": "python",
   "pygments_lexer": "ipython3",
   "version": "3.11.4"
  }
 },
 "nbformat": 4,
 "nbformat_minor": 2
}
